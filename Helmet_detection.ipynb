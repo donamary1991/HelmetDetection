{
 "cells": [
  {
   "cell_type": "code",
   "execution_count": 1,
   "metadata": {},
   "outputs": [
    {
     "name": "stdout",
     "output_type": "stream",
     "text": [
      "Requirement already satisfied: ultralytics in c:\\users\\subin\\appdata\\local\\programs\\python\\python311\\lib\\site-packages (8.3.89)\n",
      "Requirement already satisfied: numpy<=2.1.1,>=1.23.0 in c:\\users\\subin\\appdata\\local\\programs\\python\\python311\\lib\\site-packages (from ultralytics) (2.1.1)\n",
      "Requirement already satisfied: matplotlib>=3.3.0 in c:\\users\\subin\\appdata\\local\\programs\\python\\python311\\lib\\site-packages (from ultralytics) (3.10.1)\n",
      "Requirement already satisfied: opencv-python>=4.6.0 in c:\\users\\subin\\appdata\\local\\programs\\python\\python311\\lib\\site-packages (from ultralytics) (4.11.0.86)\n",
      "Requirement already satisfied: pillow>=7.1.2 in c:\\users\\subin\\appdata\\local\\programs\\python\\python311\\lib\\site-packages (from ultralytics) (11.1.0)\n",
      "Requirement already satisfied: pyyaml>=5.3.1 in c:\\users\\subin\\appdata\\local\\programs\\python\\python311\\lib\\site-packages (from ultralytics) (6.0.2)\n",
      "Requirement already satisfied: requests>=2.23.0 in c:\\users\\subin\\appdata\\local\\programs\\python\\python311\\lib\\site-packages (from ultralytics) (2.32.3)\n",
      "Requirement already satisfied: scipy>=1.4.1 in c:\\users\\subin\\appdata\\local\\programs\\python\\python311\\lib\\site-packages (from ultralytics) (1.15.2)\n",
      "Requirement already satisfied: torch>=1.8.0 in c:\\users\\subin\\appdata\\local\\programs\\python\\python311\\lib\\site-packages (from ultralytics) (2.5.1+cu121)\n",
      "Requirement already satisfied: torchvision>=0.9.0 in c:\\users\\subin\\appdata\\local\\programs\\python\\python311\\lib\\site-packages (from ultralytics) (0.20.1+cu121)\n",
      "Requirement already satisfied: tqdm>=4.64.0 in c:\\users\\subin\\appdata\\local\\programs\\python\\python311\\lib\\site-packages (from ultralytics) (4.67.1)\n",
      "Requirement already satisfied: psutil in c:\\users\\subin\\appdata\\local\\programs\\python\\python311\\lib\\site-packages (from ultralytics) (7.0.0)\n",
      "Requirement already satisfied: py-cpuinfo in c:\\users\\subin\\appdata\\local\\programs\\python\\python311\\lib\\site-packages (from ultralytics) (9.0.0)\n",
      "Requirement already satisfied: pandas>=1.1.4 in c:\\users\\subin\\appdata\\local\\programs\\python\\python311\\lib\\site-packages (from ultralytics) (2.2.3)\n",
      "Requirement already satisfied: seaborn>=0.11.0 in c:\\users\\subin\\appdata\\local\\programs\\python\\python311\\lib\\site-packages (from ultralytics) (0.13.2)\n",
      "Requirement already satisfied: ultralytics-thop>=2.0.0 in c:\\users\\subin\\appdata\\local\\programs\\python\\python311\\lib\\site-packages (from ultralytics) (2.0.14)\n",
      "Requirement already satisfied: contourpy>=1.0.1 in c:\\users\\subin\\appdata\\local\\programs\\python\\python311\\lib\\site-packages (from matplotlib>=3.3.0->ultralytics) (1.3.1)\n",
      "Requirement already satisfied: cycler>=0.10 in c:\\users\\subin\\appdata\\local\\programs\\python\\python311\\lib\\site-packages (from matplotlib>=3.3.0->ultralytics) (0.12.1)\n",
      "Requirement already satisfied: fonttools>=4.22.0 in c:\\users\\subin\\appdata\\local\\programs\\python\\python311\\lib\\site-packages (from matplotlib>=3.3.0->ultralytics) (4.56.0)\n",
      "Requirement already satisfied: kiwisolver>=1.3.1 in c:\\users\\subin\\appdata\\local\\programs\\python\\python311\\lib\\site-packages (from matplotlib>=3.3.0->ultralytics) (1.4.8)\n",
      "Requirement already satisfied: packaging>=20.0 in c:\\users\\subin\\appdata\\local\\programs\\python\\python311\\lib\\site-packages (from matplotlib>=3.3.0->ultralytics) (24.2)\n",
      "Requirement already satisfied: pyparsing>=2.3.1 in c:\\users\\subin\\appdata\\local\\programs\\python\\python311\\lib\\site-packages (from matplotlib>=3.3.0->ultralytics) (3.2.1)\n",
      "Requirement already satisfied: python-dateutil>=2.7 in c:\\users\\subin\\appdata\\local\\programs\\python\\python311\\lib\\site-packages (from matplotlib>=3.3.0->ultralytics) (2.9.0.post0)\n",
      "Requirement already satisfied: pytz>=2020.1 in c:\\users\\subin\\appdata\\local\\programs\\python\\python311\\lib\\site-packages (from pandas>=1.1.4->ultralytics) (2025.1)\n",
      "Requirement already satisfied: tzdata>=2022.7 in c:\\users\\subin\\appdata\\local\\programs\\python\\python311\\lib\\site-packages (from pandas>=1.1.4->ultralytics) (2025.1)\n",
      "Requirement already satisfied: charset-normalizer<4,>=2 in c:\\users\\subin\\appdata\\local\\programs\\python\\python311\\lib\\site-packages (from requests>=2.23.0->ultralytics) (3.4.1)\n",
      "Requirement already satisfied: idna<4,>=2.5 in c:\\users\\subin\\appdata\\local\\programs\\python\\python311\\lib\\site-packages (from requests>=2.23.0->ultralytics) (3.10)\n",
      "Requirement already satisfied: urllib3<3,>=1.21.1 in c:\\users\\subin\\appdata\\local\\programs\\python\\python311\\lib\\site-packages (from requests>=2.23.0->ultralytics) (2.3.0)\n",
      "Requirement already satisfied: certifi>=2017.4.17 in c:\\users\\subin\\appdata\\local\\programs\\python\\python311\\lib\\site-packages (from requests>=2.23.0->ultralytics) (2025.1.31)\n",
      "Requirement already satisfied: filelock in c:\\users\\subin\\appdata\\local\\programs\\python\\python311\\lib\\site-packages (from torch>=1.8.0->ultralytics) (3.17.0)\n",
      "Requirement already satisfied: typing-extensions>=4.8.0 in c:\\users\\subin\\appdata\\local\\programs\\python\\python311\\lib\\site-packages (from torch>=1.8.0->ultralytics) (4.12.2)\n",
      "Requirement already satisfied: networkx in c:\\users\\subin\\appdata\\local\\programs\\python\\python311\\lib\\site-packages (from torch>=1.8.0->ultralytics) (3.4.2)\n",
      "Requirement already satisfied: jinja2 in c:\\users\\subin\\appdata\\local\\programs\\python\\python311\\lib\\site-packages (from torch>=1.8.0->ultralytics) (3.1.6)\n",
      "Requirement already satisfied: fsspec in c:\\users\\subin\\appdata\\local\\programs\\python\\python311\\lib\\site-packages (from torch>=1.8.0->ultralytics) (2025.3.0)\n",
      "Requirement already satisfied: sympy==1.13.1 in c:\\users\\subin\\appdata\\local\\programs\\python\\python311\\lib\\site-packages (from torch>=1.8.0->ultralytics) (1.13.1)\n",
      "Requirement already satisfied: mpmath<1.4,>=1.1.0 in c:\\users\\subin\\appdata\\local\\programs\\python\\python311\\lib\\site-packages (from sympy==1.13.1->torch>=1.8.0->ultralytics) (1.3.0)\n",
      "Requirement already satisfied: colorama in c:\\users\\subin\\appdata\\local\\programs\\python\\python311\\lib\\site-packages (from tqdm>=4.64.0->ultralytics) (0.4.6)\n",
      "Requirement already satisfied: six>=1.5 in c:\\users\\subin\\appdata\\local\\programs\\python\\python311\\lib\\site-packages (from python-dateutil>=2.7->matplotlib>=3.3.0->ultralytics) (1.17.0)\n",
      "Requirement already satisfied: MarkupSafe>=2.0 in c:\\users\\subin\\appdata\\local\\programs\\python\\python311\\lib\\site-packages (from jinja2->torch>=1.8.0->ultralytics) (3.0.2)\n",
      "Note: you may need to restart the kernel to use updated packages.\n"
     ]
    }
   ],
   "source": [
    "pip install ultralytics\n"
   ]
  },
  {
   "cell_type": "code",
   "execution_count": null,
   "metadata": {},
   "outputs": [
    {
     "name": "stdout",
     "output_type": "stream",
     "text": [
      "Directories created successfully!\n"
     ]
    }
   ],
   "source": [
    "# import os\n",
    "# import shutil\n",
    "\n",
    "# # Define original dataset paths (use raw string to avoid escape issues)\n",
    "# dataset_path = r\"C:\\Users\\subin\\OneDrive\\Desktop\\Deep Learning\\Helmet Detection\"\n",
    "\n",
    "# # Define new structure\n",
    "# new_structure = [\n",
    "#     \"images/train\",\n",
    "#     \"images/val\",\n",
    "#     \"images/test\",\n",
    "#     \"labels/train\",\n",
    "#     \"labels/val\",\n",
    "#     \"labels/test\"\n",
    "# ]\n",
    "\n",
    "# # Create new directories\n",
    "# for new_folder in new_structure:\n",
    "#     os.makedirs(os.path.join(dataset_path, new_folder), exist_ok=True)\n",
    "\n",
    "# print(\"Directories created successfully!\")\n"
   ]
  },
  {
   "cell_type": "code",
   "execution_count": null,
   "metadata": {},
   "outputs": [
    {
     "name": "stdout",
     "output_type": "stream",
     "text": [
      "Dataset successfully organized into YOLO format!\n"
     ]
    }
   ],
   "source": [
    "# # Move images\n",
    "# for split in [\"train\", \"val\", \"test\"]:\n",
    "#     src_img_folder = os.path.join(dataset_path, split)\n",
    "#     dst_img_folder = os.path.join(dataset_path, \"images\", split)\n",
    "#     dst_labels_folder=os.path.join(dataset_path, \"labels\", split)\n",
    "#     for file in os.listdir(src_img_folder):\n",
    "#         if file.endswith(\".jpg\") or file.endswith(\".png\"):  # Image files\n",
    "#             shutil.move(os.path.join(src_img_folder,file), os.path.join(dst_img_folder, file))\n",
    "#         elif file.endswith(\".txt\"):  # Label files\n",
    "#             shutil.move(os.path.join(src_img_folder,file), os.path.join(dst_labels_folder, file))\n",
    "\n",
    "# print(\"Dataset successfully organized into YOLO format!\")\n",
    "\n"
   ]
  },
  {
   "cell_type": "code",
   "execution_count": 2,
   "metadata": {},
   "outputs": [
    {
     "name": "stdout",
     "output_type": "stream",
     "text": [
      "Ultralytics 8.3.89  Python-3.11.7 torch-2.5.1+cu121 CPU (AMD Ryzen 5 5600H with Radeon Graphics)\n",
      "\u001b[34m\u001b[1mengine\\trainer: \u001b[0mtask=detect, mode=train, model=yolov8n.pt, data=C:/Users/subin/OneDrive/Desktop/Deep Learning/Helmet Detection/data.yaml, epochs=10, time=None, patience=100, batch=4, imgsz=640, save=True, save_period=-1, cache=False, device=cpu, workers=8, project=None, name=train5, exist_ok=False, pretrained=True, optimizer=auto, verbose=True, seed=0, deterministic=True, single_cls=False, rect=False, cos_lr=False, close_mosaic=10, resume=False, amp=True, fraction=1.0, profile=False, freeze=None, multi_scale=False, overlap_mask=True, mask_ratio=4, dropout=0.0, val=True, split=val, save_json=False, save_hybrid=False, conf=None, iou=0.7, max_det=300, half=False, dnn=False, plots=True, source=None, vid_stride=1, stream_buffer=False, visualize=False, augment=False, agnostic_nms=False, classes=None, retina_masks=False, embed=None, show=False, save_frames=False, save_txt=False, save_conf=False, save_crop=False, show_labels=True, show_conf=True, show_boxes=True, line_width=None, format=torchscript, keras=False, optimize=False, int8=False, dynamic=False, simplify=True, opset=None, workspace=None, nms=False, lr0=0.01, lrf=0.01, momentum=0.937, weight_decay=0.0005, warmup_epochs=3.0, warmup_momentum=0.8, warmup_bias_lr=0.1, box=7.5, cls=0.5, dfl=1.5, pose=12.0, kobj=1.0, nbs=64, hsv_h=0.015, hsv_s=0.7, hsv_v=0.4, degrees=0.0, translate=0.1, scale=0.5, shear=0.0, perspective=0.0, flipud=0.0, fliplr=0.5, bgr=0.0, mosaic=1.0, mixup=0.0, copy_paste=0.0, copy_paste_mode=flip, auto_augment=randaugment, erasing=0.4, crop_fraction=1.0, cfg=None, tracker=botsort.yaml, save_dir=runs\\detect\\train5\n",
      "Overriding model.yaml nc=80 with nc=3\n",
      "\n",
      "                   from  n    params  module                                       arguments                     \n",
      "  0                  -1  1       464  ultralytics.nn.modules.conv.Conv             [3, 16, 3, 2]                 \n",
      "  1                  -1  1      4672  ultralytics.nn.modules.conv.Conv             [16, 32, 3, 2]                \n",
      "  2                  -1  1      7360  ultralytics.nn.modules.block.C2f             [32, 32, 1, True]             \n",
      "  3                  -1  1     18560  ultralytics.nn.modules.conv.Conv             [32, 64, 3, 2]                \n",
      "  4                  -1  2     49664  ultralytics.nn.modules.block.C2f             [64, 64, 2, True]             \n",
      "  5                  -1  1     73984  ultralytics.nn.modules.conv.Conv             [64, 128, 3, 2]               \n",
      "  6                  -1  2    197632  ultralytics.nn.modules.block.C2f             [128, 128, 2, True]           \n",
      "  7                  -1  1    295424  ultralytics.nn.modules.conv.Conv             [128, 256, 3, 2]              \n",
      "  8                  -1  1    460288  ultralytics.nn.modules.block.C2f             [256, 256, 1, True]           \n",
      "  9                  -1  1    164608  ultralytics.nn.modules.block.SPPF            [256, 256, 5]                 \n",
      " 10                  -1  1         0  torch.nn.modules.upsampling.Upsample         [None, 2, 'nearest']          \n",
      " 11             [-1, 6]  1         0  ultralytics.nn.modules.conv.Concat           [1]                           \n",
      " 12                  -1  1    148224  ultralytics.nn.modules.block.C2f             [384, 128, 1]                 \n",
      " 13                  -1  1         0  torch.nn.modules.upsampling.Upsample         [None, 2, 'nearest']          \n",
      " 14             [-1, 4]  1         0  ultralytics.nn.modules.conv.Concat           [1]                           \n",
      " 15                  -1  1     37248  ultralytics.nn.modules.block.C2f             [192, 64, 1]                  \n",
      " 16                  -1  1     36992  ultralytics.nn.modules.conv.Conv             [64, 64, 3, 2]                \n",
      " 17            [-1, 12]  1         0  ultralytics.nn.modules.conv.Concat           [1]                           \n",
      " 18                  -1  1    123648  ultralytics.nn.modules.block.C2f             [192, 128, 1]                 \n",
      " 19                  -1  1    147712  ultralytics.nn.modules.conv.Conv             [128, 128, 3, 2]              \n",
      " 20             [-1, 9]  1         0  ultralytics.nn.modules.conv.Concat           [1]                           \n",
      " 21                  -1  1    493056  ultralytics.nn.modules.block.C2f             [384, 256, 1]                 \n",
      " 22        [15, 18, 21]  1    751897  ultralytics.nn.modules.head.Detect           [3, [64, 128, 256]]           \n",
      "Model summary: 129 layers, 3,011,433 parameters, 3,011,417 gradients, 8.2 GFLOPs\n",
      "\n",
      "Transferred 319/355 items from pretrained weights\n",
      "Freezing layer 'model.22.dfl.conv.weight'\n"
     ]
    },
    {
     "name": "stderr",
     "output_type": "stream",
     "text": [
      "\u001b[34m\u001b[1mtrain: \u001b[0mScanning C:\\Users\\subin\\OneDrive\\Desktop\\Deep Learning\\Helmet Detection\\labels\\train.cache... 681 images, 0 backgrounds, 0 corrupt: 100%|██████████| 681/681 [00:00<?, ?it/s]\n",
      "\u001b[34m\u001b[1mval: \u001b[0mScanning C:\\Users\\subin\\OneDrive\\Desktop\\Deep Learning\\Helmet Detection\\labels\\val.cache... 64 images, 0 backgrounds, 0 corrupt: 100%|██████████| 64/64 [00:00<?, ?it/s]\n"
     ]
    },
    {
     "name": "stdout",
     "output_type": "stream",
     "text": [
      "Plotting labels to runs\\detect\\train5\\labels.jpg... \n",
      "\u001b[34m\u001b[1moptimizer:\u001b[0m 'optimizer=auto' found, ignoring 'lr0=0.01' and 'momentum=0.937' and determining best 'optimizer', 'lr0' and 'momentum' automatically... \n",
      "\u001b[34m\u001b[1moptimizer:\u001b[0m AdamW(lr=0.001429, momentum=0.9) with parameter groups 57 weight(decay=0.0), 64 weight(decay=0.0005), 63 bias(decay=0.0)\n",
      "Image sizes 640 train, 640 val\n",
      "Using 0 dataloader workers\n",
      "Logging results to \u001b[1mruns\\detect\\train5\u001b[0m\n",
      "Starting training for 10 epochs...\n",
      "Closing dataloader mosaic\n",
      "\n",
      "      Epoch    GPU_mem   box_loss   cls_loss   dfl_loss  Instances       Size\n"
     ]
    },
    {
     "name": "stderr",
     "output_type": "stream",
     "text": [
      "       1/10         0G       1.95      2.712      1.453         36        640:  50%|████▉     | 85/171 [02:59<02:54,  2.03s/it]"
     ]
    },
    {
     "ename": "",
     "evalue": "",
     "output_type": "error",
     "traceback": [
      "\u001b[1;31mThe Kernel crashed while executing code in the current cell or a previous cell. \n",
      "\u001b[1;31mPlease review the code in the cell(s) to identify a possible cause of the failure. \n",
      "\u001b[1;31mClick <a href='https://aka.ms/vscodeJupyterKernelCrash'>here</a> for more info. \n",
      "\u001b[1;31mView Jupyter <a href='command:jupyter.viewOutput'>log</a> for further details."
     ]
    }
   ],
   "source": [
    "from ultralytics import YOLO\n",
    "\n",
    "# Load YOLOv8 model (choose 'n', 's', 'm', or 'l' based on your system)\n",
    "model = YOLO(\"yolov8n.pt\")  # Use 'yolov8s.pt' for better accuracy\n",
    "\n",
    "# Train the model\n",
    "model.train(data=\"C:/Users/subin/OneDrive/Desktop/Deep Learning/Helmet Detection/data.yaml\",\n",
    "            epochs=10, imgsz=640, batch=4, device=\"cpu\")  # Use \"cpu\" if no GPU\n"
   ]
  },
  {
   "cell_type": "code",
   "execution_count": 3,
   "metadata": {},
   "outputs": [],
   "source": [
    "from ultralytics import YOLO  \n",
    "\n",
    "# Load the trained model with best weights\n",
    "model = YOLO(r\"C:\\Users\\subin\\OneDrive\\Desktop\\Deep Learning\\Helmet Detection\\runs\\detect\\train\\weights\\best.pt\")  \n",
    "\n",
    "\n"
   ]
  },
  {
   "cell_type": "code",
   "execution_count": 4,
   "metadata": {},
   "outputs": [
    {
     "name": "stdout",
     "output_type": "stream",
     "text": [
      "\n",
      "image 1/1 C:\\Users\\subin\\OneDrive\\Desktop\\Deep Learning\\Helmet Detection\\images\\test\\image_280_jpg.rf.51dbeadbdb9fa6c0cc18500c4447f71f.jpg: 640x640 3 License_Plates, 1 Motorcyclist, 14.7ms\n",
      "Speed: 10.6ms preprocess, 14.7ms inference, 418.9ms postprocess per image at shape (1, 3, 640, 640)\n",
      "Results saved to \u001b[1mruns\\detect\\predict6\u001b[0m\n"
     ]
    }
   ],
   "source": [
    "results = model.predict(r\"C:\\Users\\subin\\OneDrive\\Desktop\\Deep Learning\\Helmet Detection\\images\\test\\image_280_jpg.rf.51dbeadbdb9fa6c0cc18500c4447f71f.jpg\", save=True, conf=0.5)\n"
   ]
  },
  {
   "cell_type": "code",
   "execution_count": 4,
   "metadata": {},
   "outputs": [
    {
     "data": {
      "text/plain": [
       "[ultralytics.engine.results.Results object with attributes:\n",
       " \n",
       " boxes: ultralytics.engine.results.Boxes object\n",
       " keypoints: None\n",
       " masks: None\n",
       " names: {0: 'Helmet', 1: 'License_Plate', 2: 'Motorcyclist'}\n",
       " obb: None\n",
       " orig_img: array([[[ 64,  55,  51],\n",
       "         [ 68,  59,  55],\n",
       "         [ 69,  60,  56],\n",
       "         ...,\n",
       "         [ 86,  89, 157],\n",
       "         [ 86,  89, 157],\n",
       "         [ 86,  89, 157]],\n",
       " \n",
       "        [[112, 101,  97],\n",
       "         [109, 100,  96],\n",
       "         [105,  94,  90],\n",
       "         ...,\n",
       "         [ 86,  89, 157],\n",
       "         [ 86,  89, 157],\n",
       "         [ 86,  89, 157]],\n",
       " \n",
       "        [[128, 115, 113],\n",
       "         [122, 110, 108],\n",
       "         [117, 104, 102],\n",
       "         ...,\n",
       "         [ 86,  89, 157],\n",
       "         [ 86,  89, 157],\n",
       "         [ 86,  89, 157]],\n",
       " \n",
       "        ...,\n",
       " \n",
       "        [[117, 123, 122],\n",
       "         [118, 124, 123],\n",
       "         [120, 126, 125],\n",
       "         ...,\n",
       "         [186, 195, 204],\n",
       "         [188, 197, 206],\n",
       "         [191, 200, 209]],\n",
       " \n",
       "        [[115, 121, 120],\n",
       "         [117, 123, 122],\n",
       "         [118, 124, 123],\n",
       "         ...,\n",
       "         [186, 195, 204],\n",
       "         [189, 198, 207],\n",
       "         [194, 203, 212]],\n",
       " \n",
       "        [[114, 120, 119],\n",
       "         [115, 121, 120],\n",
       "         [117, 123, 122],\n",
       "         ...,\n",
       "         [185, 194, 203],\n",
       "         [190, 199, 208],\n",
       "         [196, 205, 214]]], dtype=uint8)\n",
       " orig_shape: (640, 640)\n",
       " path: 'C:\\\\Users\\\\subin\\\\OneDrive\\\\Desktop\\\\Deep Learning\\\\Helmet Detection\\\\images\\\\test\\\\image_280_jpg.rf.51dbeadbdb9fa6c0cc18500c4447f71f.jpg'\n",
       " probs: None\n",
       " save_dir: 'runs\\\\detect\\\\predict5'\n",
       " speed: {'preprocess': 9.566699999822958, 'inference': 15.480399999887595, 'postprocess': 338.7553999998545}]"
      ]
     },
     "execution_count": 4,
     "metadata": {},
     "output_type": "execute_result"
    }
   ],
   "source": [
    "results"
   ]
  },
  {
   "cell_type": "code",
   "execution_count": 5,
   "metadata": {},
   "outputs": [
    {
     "name": "stdout",
     "output_type": "stream",
     "text": [
      "[]\n",
      "[(107, 113, 297, 607)]\n",
      "[(175, 390, 230, 446), (260, 219, 287, 251), (352, 213, 370, 235)]\n",
      "reached here\n",
      "Entered OCR function\n"
     ]
    },
    {
     "data": {
      "image/png": "[encoded data removed]",
      "text/plain": [
       "<Figure size 640x480 with 1 Axes>"
      ]
     },
     "metadata": {},
     "output_type": "display_data"
    },
    {
     "name": "stdout",
     "output_type": "stream",
     "text": [
      "Extracted Text: 10.61 30975\n",
      "⚠ Motorcyclist without helmet detected! License Plate: 10.61 30975\n"
     ]
    }
   ],
   "source": [
    "# Extracting Number_Plate\n",
    "import cv2\n",
    "import pytesseract\n",
    "import matplotlib.pyplot as plt\n",
    "\n",
    "detected_motorcyclists = []\n",
    "detected_helmets = []\n",
    "detected_license_plates = []\n",
    "\n",
    "\n",
    "# Extract bounding boxes for each detected object\n",
    "for r in results:\n",
    "    for i, box in enumerate(r.boxes.xyxy):\n",
    "        label = r.names[int(r.boxes.cls[i])].lower()  # Convert to lowercase for consistency\n",
    "        x1, y1, x2, y2 = map(int, box)  # Bounding box coordinates\n",
    "\n",
    "        if label == \"motorcyclist\":\n",
    "            detected_motorcyclists.append((x1, y1, x2, y2))\n",
    "        elif label == \"helmet\":\n",
    "            detected_helmets.append((x1, y1, x2, y2))\n",
    "        elif label == \"license_plate\":\n",
    "            detected_license_plates.append((x1, y1, x2, y2))\n",
    "print(detected_helmets)\n",
    "print(detected_motorcyclists)\n",
    "print(detected_license_plates)\n",
    "\n",
    "# Read image for OCR\n",
    "image = cv2.imread(r.path)\n",
    "def extract_license_plate_text(plate_coords):\n",
    "    print(\"Entered OCR function\")\n",
    "\n",
    "    x1, y1, x2, y2 = plate_coords\n",
    "    plate_img = image[y1:y2, x1:x2]\n",
    "\n",
    "    if plate_img is None or plate_img.size == 0:\n",
    "        print(\"Error: Extracted plate image is empty!\")\n",
    "        return None\n",
    "\n",
    "    # Convert to grayscale\n",
    "    plate_img = cv2.cvtColor(plate_img, cv2.COLOR_BGR2GRAY)\n",
    "\n",
    "    # Apply preprocessing for better OCR\n",
    "    plate_img = cv2.GaussianBlur(plate_img, (5, 5), 0)  # Reduce noise\n",
    "    plate_img = cv2.adaptiveThreshold(plate_img, 255, cv2.ADAPTIVE_THRESH_GAUSSIAN_C, cv2.THRESH_BINARY, 11, 2)\n",
    "    plate_img = cv2.resize(plate_img, None, fx=2, fy=2, interpolation=cv2.INTER_CUBIC)\n",
    "\n",
    "    # Debugging: Save and Display the Image\n",
    "    cv2.imwrite(\"debug_plate.jpg\", plate_img)\n",
    "    plt.imshow(plate_img,cmap='gray')\n",
    "    plt.axis(\"off\")\n",
    "    plt.show()\n",
    "\n",
    "   \n",
    "    # Crop the upper half\n",
    "    plate_upper = plate_img[7:plate_img.shape[0] // 2+1, 1:-2]\n",
    "    \n",
    "\n",
    "    # Crop the lower half\n",
    "    plate_lower = plate_img[plate_img.shape[0] // 2-4:-1, 3:]\n",
    "    \n",
    "    # OCR with character whitelist\n",
    "    custom_config = r'--oem 3 --psm 6 -c tessedit_char_whitelist=ABCDEFGHIJKLMNOPQRSTUVWXYZ0123456789.'\n",
    "    \n",
    "    # Extract text separately\n",
    "    upper_text = pytesseract.image_to_string(plate_upper, config=custom_config).strip()\n",
    "    lower_text = pytesseract.image_to_string(plate_lower, config=custom_config).strip()\n",
    "\n",
    "    # Combine results\n",
    "    license_plate_text = upper_text + \" \"+lower_text\n",
    "\n",
    "\n",
    "    print(\"Extracted Text:\",license_plate_text)\n",
    "\n",
    "    return license_plate_text\n",
    "# Process detected motorcyclists\n",
    "for mc in detected_motorcyclists:\n",
    "    mc_x1, mc_y1, mc_x2, mc_y2 = mc\n",
    "    helmet_found = False\n",
    "    license_plate_text = None\n",
    "\n",
    "    # Check if helmet is present\n",
    "    for h in detected_helmets:\n",
    "        h_x1, h_y1, h_x2, h_y2 = h\n",
    "        if h_x1 > mc_x1 and h_x2 < mc_x2 and h_y1 > mc_y1 and h_y2 < mc_y2:\n",
    "            helmet_found = True\n",
    "            break\n",
    "\n",
    "    # Find corresponding license plate\n",
    "    for lp in detected_license_plates:\n",
    "        lp_x1, lp_y1, lp_x2, lp_y2 = lp\n",
    "        \n",
    "        if mc_x1 < lp_x1 and lp_x2 < mc_x2 and mc_y1 < lp_y1 and lp_y2 < mc_y2:\n",
    "            print(\"reached here\")\n",
    "            license_plate_text = extract_license_plate_text(lp)\n",
    "            break\n",
    "\n",
    "      \n",
    "if not helmet_found and license_plate_text:\n",
    "        print(f\"⚠ Motorcyclist without helmet detected! License Plate: {license_plate_text}\")\n"
   ]
  },
  {
   "cell_type": "code",
   "execution_count": 7,
   "metadata": {},
   "outputs": [
    {
     "name": "stdout",
     "output_type": "stream",
     "text": [
      "DB_HOST: 127.0.0.1\n",
      "DB_USER: root\n",
      "DB_PASS: Password@123\n",
      "DB_NAME: motorvehicledatabase\n"
     ]
    }
   ],
   "source": [
    "import os\n",
    "\n",
    "print(\"DB_HOST:\", os.getenv(\"DB_HOST\"))\n",
    "print(\"DB_USER:\", os.getenv(\"DB_USER\"))\n",
    "print(\"DB_PASS:\", os.getenv(\"DB_PASS\"))\n",
    "print(\"DB_NAME:\", os.getenv(\"DB_NAME\"))"
   ]
  },
  {
   "cell_type": "code",
   "execution_count": 6,
   "metadata": {},
   "outputs": [
    {
     "name": "stdout",
     "output_type": "stream",
     "text": [
      "✅ Connected to MySQL!\n",
      "✅ License plate 10.61 30975 stored in database!\n"
     ]
    }
   ],
   "source": [
    "import pymysql\n",
    "import os\n",
    "\n",
    "# Database connection\n",
    "conn = pymysql.connect(\n",
    "    host=os.getenv(\"DB_HOST\"),\n",
    "    user=os.getenv(\"DB_USER\"),  # Use environment variables for security\n",
    "    password=os.getenv(\"DB_PASS\"),\n",
    "    database=os.getenv(\"DB_NAME\")\n",
    ")\n",
    "print(\"✅ Connected to MySQL!\")\n",
    "cursor = conn.cursor()\n",
    "\n",
    "# Insert license plate into database\n",
    "query = \"INSERT INTO detected_plates (license_plate, detection_time) VALUES (%s, NOW())\"\n",
    "cursor.execute(query, (license_plate_text,))\n",
    "conn.commit()\n",
    "\n",
    "print(f\"✅ License plate {license_plate_text} stored in database!\")\n",
    "conn.close()\n"
   ]
  },
  {
   "cell_type": "code",
   "execution_count": 16,
   "metadata": {},
   "outputs": [
    {
     "name": "stdout",
     "output_type": "stream",
     "text": [
      "✅ Found user! Sending email to donamg.smec@gmail.com...\n",
      "❌ Failed to send email: 'NoneType' object has no attribute 'encode'\n"
     ]
    }
   ],
   "source": [
    "import pymysql\n",
    "import smtplib\n",
    "import os\n",
    "\n",
    "# Function to connect to MySQL\n",
    "def connect_to_db():\n",
    "    try:\n",
    "        return pymysql.connect(\n",
    "    host=os.getenv(\"DB_HOST\"),\n",
    "    user=os.getenv(\"DB_USER\"),  # Use environment variables for security\n",
    "    password=os.getenv(\"DB_PASS\"),\n",
    "    database=os.getenv(\"DB_NAME\"),\n",
    "    autocommit=True  # Ensures changes are saved automatically\n",
    "        )\n",
    "    except pymysql.MySQLError as e:\n",
    "        print(f\"❌ Database Connection Error: {e}\")\n",
    "        return None  # Return None if connection fails\n",
    "\n",
    "# Function to send email notification\n",
    "def send_email_to_motorcyclist(email, plate):\n",
    "    try:\n",
    "        server = smtplib.SMTP(\"smtp.gmail.com\", 587)\n",
    "        server.starttls()\n",
    "        server.login(os.getenv(\"EMAIL_USER\"), os.getenv(\"EMAIL_PASS\"))\n",
    "        \n",
    "        subject = \"Helmet Violation Alert 🚨\"\n",
    "        message = f\"Dear User,\\n\\nOur system detected that you were riding without a helmet.\\n\\nLicense Plate: {plate}\\n\\nFine: 1000\\n\\nPlease wear a helmet for safety!\\n\\nRegards,\\nTraffic Safety Team\"\n",
    "\n",
    "        server.sendmail(os.getenv(\"EMAIL_USER\"), email, f\"Subject: {subject}\\n\\n{message}\")\n",
    "        server.quit()\n",
    "        print(f\"✅ Email sent to {email}\")\n",
    "    \n",
    "    except Exception as e:\n",
    "        print(f\"❌ Failed to send email: {e}\")\n",
    "\n",
    "# Reconnect to MySQL before executing query\n",
    "conn = connect_to_db()\n",
    "if conn:\n",
    "    cursor = conn.cursor()\n",
    "\n",
    "    # Query user email from database\n",
    "    cursor.execute(\"SELECT email FROM vehicles_details WHERE licence_plate = %s\", (license_plate_text,))\n",
    "    result = cursor.fetchone()\n",
    "\n",
    "    if result:\n",
    "        user_email = result[0]\n",
    "        print(f\"✅ Found user! Sending email to {user_email}...\")\n",
    "        send_email_to_motorcyclist(user_email, license_plate_text)\n",
    "    else:\n",
    "        print(\"⚠ License plate not found in the database. No email sent.\")\n",
    "\n",
    "    conn.close()  # Close connection after execution\n",
    "else:\n",
    "    print(\"❌ Could not connect to the database. Check your MySQL credentials.\")\n"
   ]
  },
  {
   "cell_type": "code",
   "execution_count": 13,
   "metadata": {},
   "outputs": [
    {
     "name": "stdout",
     "output_type": "stream",
     "text": [
      "✅ Connection is open\n"
     ]
    }
   ],
   "source": [
    "if conn.open:\n",
    "    print(\"✅ Connection is open\")\n",
    "else:\n",
    "    print(\"❌ Connection is closed\")\n"
   ]
  },
  {
   "cell_type": "code",
   "execution_count": 17,
   "metadata": {},
   "outputs": [
    {
     "name": "stdout",
     "output_type": "stream",
     "text": [
      "EMAIL_USER: None\n",
      "EMAIL_PASS: None\n"
     ]
    }
   ],
   "source": [
    "import os\n",
    "\n",
    "EMAIL_USER = os.getenv(\"EMAIL_USER\")\n",
    "EMAIL_PASS = os.getenv(\"EMAIL_PASS\")\n",
    "\n",
    "print(\"EMAIL_USER:\", EMAIL_USER)\n",
    "print(\"EMAIL_PASS:\", EMAIL_PASS)  # For security, avoid printing this in production.\n"
   ]
  },
  {
   "cell_type": "code",
   "execution_count": null,
   "metadata": {},
   "outputs": [],
   "source": []
  }
 ],
 "metadata": {
  "kernelspec": {
   "display_name": "Python 3",
   "language": "python",
   "name": "python3"
  },
  "language_info": {
   "codemirror_mode": {
    "name": "ipython",
    "version": 3
   },
   "file_extension": ".py",
   "mimetype": "text/x-python",
   "name": "python",
   "nbconvert_exporter": "python",
   "pygments_lexer": "ipython3",
   "version": "3.11.7"
  }
 },
 "nbformat": 4,
 "nbformat_minor": 2
}
